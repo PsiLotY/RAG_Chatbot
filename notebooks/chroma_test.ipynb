{
 "cells": [
  {
   "cell_type": "code",
   "execution_count": 1,
   "metadata": {},
   "outputs": [
    {
     "name": "stderr",
     "output_type": "stream",
     "text": [
      "c:\\Users\\anjow\\miniconda3\\envs\\BAp11\\Lib\\site-packages\\tqdm\\auto.py:21: TqdmWarning: IProgress not found. Please update jupyter and ipywidgets. See https://ipywidgets.readthedocs.io/en/stable/user_install.html\n",
      "  from .autonotebook import tqdm as notebook_tqdm\n"
     ]
    }
   ],
   "source": [
    "import sys\n",
    "import os\n",
    "\n",
    "parent_dir = os.path.dirname(os.path.dirname(os.path.abspath('__file__')))\n",
    "sys.path.append(parent_dir)\n",
    "\n",
    "from chroma_functions import *\n",
    "from utils import logger"
   ]
  },
  {
   "cell_type": "code",
   "execution_count": 2,
   "metadata": {},
   "outputs": [
    {
     "name": "stdout",
     "output_type": "stream",
     "text": [
      "2025-02-12 21:34:09 [INFO] chromadb.telemetry.product.posthog - Anonymized telemetry enabled. See                     https://docs.trychroma.com/telemetry for more information.\n",
      "2025-02-12 21:34:09 [INFO] sentence_transformers.SentenceTransformer - Use pytorch device_name: cuda\n",
      "2025-02-12 21:34:09 [INFO] sentence_transformers.SentenceTransformer - Load pretrained SentenceTransformer: sentence-transformers/distiluse-base-multilingual-cased-v1\n",
      "2025-02-12 21:34:13 [INFO] chroma_functions - ChromaDB instance initialized.\n"
     ]
    }
   ],
   "source": [
    "chroma = ChromaDB(\"hdm_collection\", \"../chroma_storage\")"
   ]
  },
  {
   "cell_type": "code",
   "execution_count": 18,
   "metadata": {},
   "outputs": [
    {
     "data": {
      "text/plain": [
       "['hdm_collection', 'hdm_website']"
      ]
     },
     "execution_count": 18,
     "metadata": {},
     "output_type": "execute_result"
    }
   ],
   "source": [
    "chroma.client.list_collections()"
   ]
  },
  {
   "cell_type": "code",
   "execution_count": 19,
   "metadata": {},
   "outputs": [
    {
     "data": {
      "text/plain": [
       "2825"
      ]
     },
     "execution_count": 19,
     "metadata": {},
     "output_type": "execute_result"
    }
   ],
   "source": [
    "entries = chroma.collection.get(include=[\"metadatas\"])\n",
    "len(entries[\"ids\"])"
   ]
  },
  {
   "cell_type": "code",
   "execution_count": 20,
   "metadata": {},
   "outputs": [
    {
     "data": {
      "text/plain": [
       "'webpage-a08f78c32e264befc8739074d26f16e762c51802'"
      ]
     },
     "execution_count": 20,
     "metadata": {},
     "output_type": "execute_result"
    }
   ],
   "source": [
    "entries[\"ids\"][0]"
   ]
  },
  {
   "cell_type": "code",
   "execution_count": 10,
   "metadata": {},
   "outputs": [
    {
     "name": "stdout",
     "output_type": "stream",
     "text": [
      "dict_keys(['ids', 'embeddings', 'documents', 'uris', 'data', 'metadatas', 'included'])\n",
      "webpage-a08f78c32e264befc8739074d26f16e762c51802\n",
      "2025-02-12 21:36:37 [INFO] chroma_functions - Found 785 matching documents for regex: .*curdt.*\n"
     ]
    }
   ],
   "source": [
    "import re\n",
    "pattern = r\".*curdt.*\"\n",
    "# Fetch all documents (use a limit if needed for performance)\n",
    "results = chroma.collection.get(include=[\"metadatas\"])\n",
    "print(results.keys())\n",
    "print(results[\"ids\"][0])\n",
    "# Compile regex pattern\n",
    "regex = re.compile(pattern)\n",
    "\n",
    "# Filter in Python using regex\n",
    "documents = [\n",
    "    doc_id for doc_id, meta in zip(results.get(\"ids\", []), results.get(\"metadatas\", []))\n",
    "    if \"url\" in meta and regex.search(meta[\"url\"])\n",
    "]\n",
    "\n",
    "log.info(f\"Found {len(documents)} matching documents for regex: {pattern}\")\n",
    "# results.get(\"ids\")"
   ]
  },
  {
   "cell_type": "code",
   "execution_count": 16,
   "metadata": {},
   "outputs": [
    {
     "data": {
      "text/plain": [
       "785"
      ]
     },
     "execution_count": 16,
     "metadata": {},
     "output_type": "execute_result"
    }
   ],
   "source": [
    "len(documents)"
   ]
  },
  {
   "cell_type": "code",
   "execution_count": 17,
   "metadata": {},
   "outputs": [],
   "source": [
    "chroma.collection.delete(\n",
    "    ids=documents\n",
    ")"
   ]
  }
 ],
 "metadata": {
  "kernelspec": {
   "display_name": "BAp11",
   "language": "python",
   "name": "python3"
  },
  "language_info": {
   "codemirror_mode": {
    "name": "ipython",
    "version": 3
   },
   "file_extension": ".py",
   "mimetype": "text/x-python",
   "name": "python",
   "nbconvert_exporter": "python",
   "pygments_lexer": "ipython3",
   "version": "3.11.11"
  }
 },
 "nbformat": 4,
 "nbformat_minor": 2
}
