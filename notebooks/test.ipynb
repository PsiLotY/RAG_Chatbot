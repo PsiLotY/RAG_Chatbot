{
 "cells": [
  {
   "cell_type": "code",
   "execution_count": 1,
   "metadata": {},
   "outputs": [
    {
     "name": "stderr",
     "output_type": "stream",
     "text": [
      "c:\\Users\\anjow\\miniconda3\\envs\\BAp11\\Lib\\site-packages\\tqdm\\auto.py:21: TqdmWarning: IProgress not found. Please update jupyter and ipywidgets. See https://ipywidgets.readthedocs.io/en/stable/user_install.html\n",
      "  from .autonotebook import tqdm as notebook_tqdm\n"
     ]
    }
   ],
   "source": [
    "import time\n",
    "import re\n",
    "import os\n",
    "import sys\n",
    "from random import uniform\n",
    "from collections import deque\n",
    "from urllib.parse import urljoin, urlparse\n",
    "import json\n",
    "import torch\n",
    "\n",
    "import requests\n",
    "from bs4 import BeautifulSoup\n",
    "from PyPDF2 import PdfReader\n",
    "\n",
    "parent_dir = os.path.dirname(os.path.dirname(os.path.abspath('__file__')))\n",
    "sys.path.append(parent_dir)\n",
    "\n",
    "from utils import logger, create_directories_if_not_exist, save_to_file\n",
    "from chroma_functions import ChromaDB\n",
    "from rag import RAG\n",
    "from utils import current_memory"
   ]
  },
  {
   "cell_type": "code",
   "execution_count": 8,
   "metadata": {},
   "outputs": [],
   "source": [
    "log = logger(__name__)"
   ]
  },
  {
   "cell_type": "code",
   "execution_count": 5,
   "metadata": {},
   "outputs": [
    {
     "name": "stdout",
     "output_type": "stream",
     "text": [
      "True\n",
      "True\n",
      "True\n"
     ]
    }
   ],
   "source": [
    "test = \"http://www.hdm-stuttgart.de/news/news20240307102023/fotostrecke20240307141831/musik_z.jpg\"\n",
    "print(\"example.jpg\".endswith((\"\", \".pdf\", \".html\", \".htm\")))  # ✅ Always True!\n",
    "print(\"randomtext\".endswith(\"\"))  # ✅ Always True!\n",
    "print(\"https://example.com/something.jpg\".endswith(\"\"))  # ✅ Always True!"
   ]
  },
  {
   "cell_type": "code",
   "execution_count": 11,
   "metadata": {},
   "outputs": [
    {
     "name": "stdout",
     "output_type": "stream",
     "text": [
      "ParseResult(scheme='https', netloc='www.youtube.com', path='/watch', params='', query='v=oN-QQdCGXLU&t=102s', fragment='')\n",
      "www.youtube.com\n",
      "ok\n"
     ]
    }
   ],
   "source": [
    "from urllib.parse import urlparse\n",
    "\n",
    "allowed_extensions = {\".pdf\", \".html\", \".htm\", \"\"}\n",
    "full_url = \"https://www.hdm-stuttgart.de/studium/auslandssemester.jpg\"\n",
    "full_url = \"https://www.youtube.com/watch?v=oN-QQdCGXLU&t=102s\"\n",
    "\n",
    "parsed_url = urlparse(full_url)\n",
    "print(parsed_url)\n",
    "domain = parsed_url.netloc\n",
    "print(domain)\n",
    "\n",
    "if (\n",
    "    \"#\" in full_url\n",
    "    or not full_url.startswith((\"http://\", \"https://\"))\n",
    "    or parsed_url.path.lower() and not parsed_url.path.lower().endswith(tuple(allowed_extensions))\n",
    "):\n",
    "    print(\"out\")\n",
    "else:\n",
    "    print(\"ok\")\n"
   ]
  },
  {
   "cell_type": "code",
   "execution_count": 24,
   "metadata": {},
   "outputs": [],
   "source": [
    "def extract_domain_part(url: str) -> str:\n",
    "    \"\"\"Takes in an url and returns a string that is based on the urls domain, path and query.\n",
    "\n",
    "    Args:\n",
    "        url (str): The URL of the page being parsed.\n",
    "\n",
    "    Returns:\n",
    "        str: The url in a form thats usable as a path.\n",
    "    \"\"\"\n",
    "    try:\n",
    "        parsed_url = urlparse(url)\n",
    "        print(parsed_url)\n",
    "        # Extract the base domain (e.g., hdm-stuttgart from www.hdm-stuttgart.de)\n",
    "        domain_match = re.search(r\"(?:www\\.)?(.*?)\\.(de|com|org|net|pdf)\", parsed_url.netloc)\n",
    "        base_domain = domain_match.group(1) if domain_match else parsed_url.netloc\n",
    "\n",
    "        # Extract the url path after .de\n",
    "        path = parsed_url.path.strip(\"/\").replace(\"/\", \"_\")\n",
    "        print(path)\n",
    "        # Extract url query parameters after ?\n",
    "        query = parsed_url.query.replace(\"&\", \"_\").replace(\"=\", \"_\") if parsed_url.query else \"\"\n",
    "        print(query)\n",
    "        # Combine components\n",
    "        filename = f\"{base_domain}\"\n",
    "        if path:\n",
    "            filename += f\"_{path}\"\n",
    "        if query:\n",
    "            filename += f\"_{query}\"\n",
    "\n",
    "        # Ensure filename is safe\n",
    "        filename = re.sub(r'[<>:\"/\\\\|?*]', \"_\", filename)\n",
    "        return filename\n",
    "    except Exception as e:\n",
    "        log.error(\"Error generating filename from URL %s: %s\", url, e)\n",
    "        return \"default\""
   ]
  },
  {
   "cell_type": "code",
   "execution_count": 31,
   "metadata": {},
   "outputs": [
    {
     "name": "stdout",
     "output_type": "stream",
     "text": [
      "ParseResult(scheme='https', netloc='www.w3schools.com', path='/python/python_classes.pdf', params='', query='', fragment='')\n",
      "python_python_classes.pdf\n",
      "\n"
     ]
    },
    {
     "data": {
      "text/plain": [
       "'w3schools_python_python_classes.pdf'"
      ]
     },
     "execution_count": 31,
     "metadata": {},
     "output_type": "execute_result"
    }
   ],
   "source": [
    "full_url = \"https://www.youtube.com/watch?v=oN-QQdCGXLU&t=102s\"\n",
    "full_url = \"https://www.w3schools.com/python/python_classes.pdf\"\n",
    "\n",
    "extract_domain_part(full_url)"
   ]
  },
  {
   "cell_type": "code",
   "execution_count": 108,
   "metadata": {},
   "outputs": [
    {
     "data": {
      "text/plain": [
       "{5, 6, 'test'}"
      ]
     },
     "execution_count": 108,
     "metadata": {},
     "output_type": "execute_result"
    }
   ],
   "source": [
    "set1 = {\"test\", \"blub\", 4, 3}\n",
    "set2 = {3, 4, 5, 6, \"blub\"}\n",
    "set1.symmetric_difference_update(set2)\n",
    "set1"
   ]
  },
  {
   "cell_type": "code",
   "execution_count": 162,
   "metadata": {},
   "outputs": [],
   "source": [
    "DISALLOWED_PATHS = [\n",
    "    \"/studienfuehrer/vorlesungsverzeichnis/\",\n",
    "    \"/studienfuehrer/Studiengaenge/\",\n",
    "    \"/studienfuehrer/dozentenplaene/\",\n",
    "    \"/studienfuehrer/raumbelegung/\",\n",
    "    \"*/manage\",\n",
    "    \"*/manage_main\",\n",
    "    \"*/manage_workspace\",\n",
    "    \"/pdm/pdm_deutsch/\",\n",
    "    \"/pdm/pdm_englisch/\",\n",
    "    \"/pdm/pdm_spanisch/\",\n",
    "    \"*/html2pdf\",\n",
    "    \"*/htmltopdf\",\n",
    "    \"*printview=1\",\n",
    "    \"/pmm/studiengang/team/mitarbeiter/lindig/\",\n",
    "    \"/hochschule/neubau/webcams/tag*\",\n",
    "    \"/ifak/startseite/redaktionzukunft/beitrag.html?beitrag_ID=1817&stars=2\",\n",
    "    \"/*beitrag.html?beitrag_ID=1817\",\n",
    "    \"*view_fotostrecke*\",\n",
    "    \"*hdmnewsmail_simple*\",\n",
    "    \"/vwif/\",\n",
    "    \"splan.hdm-stuttgart.de\",\n",
    "]\n",
    "\n",
    "def is_allowed(url: str) -> bool:\n",
    "    \"\"\"Check if a url is allowed based on the disallowed paths.\n",
    "\n",
    "    Args:\n",
    "        url (str): thue url to check\n",
    "\n",
    "    Returns:\n",
    "        bool: True if allowed, False if disallowed\n",
    "    \"\"\"\n",
    "    for path in DISALLOWED_PATHS:\n",
    "        if \"*\" in path:\n",
    "            # Match wildcard patterns\n",
    "            regex_path = path.replace(\"*\", \".*\")\n",
    "            if re.search(regex_path, url):\n",
    "                return False\n",
    "        elif path in url:\n",
    "            return False\n",
    "    return True"
   ]
  },
  {
   "cell_type": "code",
   "execution_count": null,
   "metadata": {},
   "outputs": [],
   "source": [
    "from urllib.parse import urlparse, urljoin\n",
    "\n",
    "ALLOWED_DOMAINS = {\n",
    "    \"hdm-stuttgart.de\",\n",
    "    \"hdm-weiterbildung.de\",\n",
    "    \"vs-hdm.de\",\n",
    "}\n",
    "\n",
    "ALLOWED_EXTENSIONS = {\".pdf\"}\n",
    "\n",
    "def extract_links(soup: BeautifulSoup, url: str, visited: set[str], to_visit: set[str]) -> set[str]:\n",
    "    \"\"\"Extracts all valid links from a webpage.\n",
    "\n",
    "    Args:\n",
    "        soup (BeautifulSoup): The BeautifulSoup object of the page content.\n",
    "        url (str): The URL of the page being parsed.\n",
    "        visited (set): Set of already visited URLs.\n",
    "        to_visit (set): Set of URLs scheduled for visiting.\n",
    "\n",
    "    Returns:\n",
    "        Set[str]: A set of valid links extracted from the page.\n",
    "    \"\"\"\n",
    "    try:\n",
    "        filtered_links = set()\n",
    "        for a in soup.find_all(\"a\", href=True):\n",
    "            href = a[\"href\"].strip()\n",
    "            full_url = urljoin(url, href)\n",
    "            parsed_url = urlparse(full_url)\n",
    "\n",
    "    \t    # must be https\n",
    "            if not parsed_url.scheme == \"https\":\n",
    "                continue\n",
    "\n",
    "            # must not have # in it\n",
    "            if parsed_url.fragment:\n",
    "                continue\n",
    "\n",
    "            # Only allow URLs from allowed domains\n",
    "            domain = parsed_url.netloc.lower()\n",
    "            if not any(domain.endswith(allowed_domain) for allowed_domain in ALLOWED_DOMAINS):\n",
    "                continue\n",
    "            \n",
    "            # Ensure the path has an allowed extension or no extension (to capture general webpages)\n",
    "            path = parsed_url.path.lower()\n",
    "            if path and \".\" in path and not any(path.endswith(ext) for ext in ALLOWED_EXTENSIONS):\n",
    "                continue\n",
    "\n",
    "            # Check if the URL is allowed based on disallowed paths\n",
    "            if not is_allowed(full_url):\n",
    "                continue\n",
    "\n",
    "            filtered_links.add(full_url)\n",
    "            \n",
    "        # Avoid duplicates in visited or to_visit\n",
    "        filtered_links.difference_update(visited)\n",
    "        filtered_links.difference_update(to_visit)\n",
    "        return filtered_links\n",
    "\n",
    "    except Exception as e:\n",
    "        log.error(f\"Failed to fetch links from {url}: {e}\")\n",
    "        return set()\n"
   ]
  },
  {
   "cell_type": "code",
   "execution_count": 203,
   "metadata": {},
   "outputs": [
    {
     "data": {
      "text/plain": [
       "('.pdf',)"
      ]
     },
     "execution_count": 203,
     "metadata": {},
     "output_type": "execute_result"
    }
   ],
   "source": [
    "tuple(ALLOWED_EXTENSIONS)"
   ]
  },
  {
   "cell_type": "code",
   "execution_count": 215,
   "metadata": {},
   "outputs": [
    {
     "name": "stdout",
     "output_type": "stream",
     "text": [
      "ParseResult(scheme='https', netloc='www.hdm-stuttgart.de', path='/studies', params='', query='page=1p', fragment='')\n",
      "/studies\n",
      "yes\n"
     ]
    }
   ],
   "source": [
    "full_url = \"https://www.hdm-stuttgart.de/studies?page=1p\"\n",
    "parsed_url = urlparse(full_url)\n",
    "# Ensure the path has an allowed extension or no extension (to capture general webpages)\n",
    "path = parsed_url.path.lower()\n",
    "print(parsed_url)\n",
    "print(path)\n",
    "if path and \".\" in path and not any(path.endswith(ext) for ext in ALLOWED_EXTENSIONS):\n",
    "    print(\"nope\")\n",
    "else:\n",
    "    print(\"yes\")"
   ]
  },
  {
   "cell_type": "code",
   "execution_count": 166,
   "metadata": {},
   "outputs": [
    {
     "name": "stdout",
     "output_type": "stream",
     "text": [
      "2025-02-07 23:38:29 [INFO] __main__ - Content type: text/html; charset=utf-8\n",
      "2025-02-07 23:38:29 [INFO] __main__ - Detected HTML: https://www.hdm-stuttgart.de/index_html\n",
      "{'https://www.hdm-stuttgart.de/hochschule/aktuelles/terminkalender', 'https://www.hdm-stuttgart.de/view_news?ident=news20250108171856', 'https://www.hdm-stuttgart.de/studierende/mathevorkurse', 'https://www.hdm-stuttgart.de/hochschule/profil/leitwerte_leitbild', 'https://www.hdm-stuttgart.de/unternehmen/kooperation/deutschlandstipendium_foerderer', 'https://www.hdm-stuttgart.de/science/view_beitrag?science_beitrag_ID=866', 'https://www.hdm-stuttgart.de/hausordnung', 'https://www.hdm-stuttgart.de/hochschule/doepfert', 'https://www.hdm-stuttgart.de/science/view_beitrag?science_beitrag_ID=862', 'https://www.hdm-stuttgart.de/studierende/stundenplan/pers_stundenplan', 'https://www.hdm-stuttgart.de/isms', 'https://www.hdm-stuttgart.de/hochschule/aktuelles', 'https://www.hdm-stuttgart.de/unternehmen/careercenter', 'https://www.hdm-stuttgart.de/hochschule/forschung/forschungsthemen', 'https://www.hdm-stuttgart.de/studierende/stundenplan/raumbelegung', 'https://www.hdm-stuttgart.de/terminkalender/view_terminfooter_relaunch?terminid=event20240716104845', 'https://www.hdm-stuttgart.de/hochschule', 'https://www.hdm-stuttgart.de/terminkalender/view_terminfooter_relaunch?terminid=event20250115170352', 'https://www.hdm-stuttgart.de/hochschule/forschung/transferzentren', 'https://www.hdm-stuttgart.de/view_news?ident=news20241206162041', 'https://www.hdm-stuttgart.de/unternehmen/karrieremarktplatz', 'https://www.hdm-stuttgart.de/intranet/dozenten/', 'https://www.hdm-stuttgart.de/studieninteressierte/studium/austauschprogramme', 'https://www.hdm-stuttgart.de/terminkalender', 'https://www.hdm-stuttgart.de/view_news?ident=news20241113091325', 'https://www.hdm-stuttgart.de/studierende/studium', 'https://www.hdm-stuttgart.de/beitragsarchiv?Suchen=1&kategorie_ID=1', 'https://www.hdm-stuttgart.de/studierende/handbuch', 'https://www.hdm-stuttgart.de/hochschule/aktuelles/presse', 'https://www.hdm-stuttgart.de/terminkalender/view_terminfooter_relaunch?terminid=event20230818144136', 'https://www.hdm-stuttgart.de/anfahrt', 'https://www.hdm-stuttgart.de/studierende/studium/praktisches_studiensemester', 'https://www.hdm-stuttgart.de/terminkalender/view_terminfooter_relaunch?terminid=event20240716105005', 'https://www.hdm-stuttgart.de/studieninteressierte/rund_ums_studium', 'https://www.hdm-stuttgart.de/hochschule/forschung/forschungsberichte', 'https://www.hdm-stuttgart.de/horst', 'https://www.hdm-stuttgart.de/studierende/studium/ausland', 'https://www.hdm-stuttgart.de/studieninteressierte/studium/bachelor', 'https://www.hdm-stuttgart.de/science/view_beitrag?science_beitrag_ID=863', 'https://www.hdm-stuttgart.de/unternehmen/careercenter/praktikumsstellen', 'https://www.hdm-stuttgart.de/intranet/ansprechpartner', 'https://www.hdm-stuttgart.de/studieninteressierte/bewerber/auslaendische_bewerber', 'https://www.hdm-stuttgart.de/unternehmen/kooperation/stipendium_des_foerdervereins', 'https://www.hdm-stuttgart.de/intranet/organisation/ansprechpartner/abteilungen/technikpool', 'https://www.hdm-stuttgart.de/intranet/intranet_formulare/studierende', 'https://www.hdm-stuttgart.de/studieninteressierte/bewerber/studienplatzvergabe', 'https://www.hdm-stuttgart.de/index_html', 'https://www.hdm-stuttgart.de/science', 'https://www.hdm-stuttgart.de/studierende', 'https://www.hdm-stuttgart.de/studieninteressierte/promotion/promovieren_an_der_hdm', 'https://www.hdm-stuttgart.de/unternehmen/promo_werbung/anzeigenschaltung_studienfuehrer', 'https://www.hdm-stuttgart.de/hochschule/profil/ueber_die_hdm', 'https://www.hdm-stuttgart.de/studierende/inaktion/stufe', 'https://www.hdm-stuttgart.de/studieninteressierte', 'https://www.hdm-stuttgart.de/hochschule/profil/qm', 'https://www.hdm-stuttgart.de/terminkalender/view_terminfooter_relaunch?terminid=event20240104142428', 'https://www.hdm-stuttgart.de/hochschule/profil/barrierefreiheit', 'https://www.hdm-stuttgart.de/hochschule/forschung/kommission', 'https://www.hdm-stuttgart.de/studierende/abteilungen/it', 'https://www.hdm-stuttgart.de/hochschule/organisation', 'https://www.hdm-stuttgart.de/beitragsarchiv?Suchen=1&kategorie_ID=6', 'https://www.hdm-stuttgart.de/science/view_beitrag?science_beitrag_ID=864', 'https://www.hdm-stuttgart.de/hochschule/profil/qm/systemakkreditierung', 'https://www.hdm-stuttgart.de/datenschutz', 'https://www.hdm-stuttgart.de/hochschule/profil/partnerhochschulen', 'https://www.hdm-stuttgart.de/hochschule/organisation/professoren', 'https://www.hdm-stuttgart.de/en', 'https://www.hdm-stuttgart.de/view_news?ident=news20241127155531', 'https://www.hdm-stuttgart.de/datenschutzverordnung_hdm', 'https://www.hdm-stuttgart.de/studieninteressierte/info/gasthoerer', 'https://www.hdm-stuttgart.de/hochschule/forschung', 'https://www.hdm-stuttgart.de/hochschule/organisation/ehrensenatoren', 'https://www.hdm-stuttgart.de/hochschule/forschung/forschungsschwerpunkte', 'https://www.hdm-stuttgart.de/view_news?ident=news20250109102122', 'https://www.hdm-stuttgart.de/beitragsarchiv?Suchen=1&kategorie_ID=2', 'https://www.hdm-stuttgart.de/studieninteressierte/bewerber/bewerbung_master', 'https://www.hdm-stuttgart.de/studierende/stundenplan/studieninhalte', 'https://www.hdm-stuttgart.de/view_news?ident=news20241119155507', 'https://www.hdm-stuttgart.de/studieninteressierte/bewerber/angleichungsleistungen', 'https://www.hdm-stuttgart.de/view_news?ident=news20241212135801', 'https://moodle.hdm-stuttgart.de', 'https://www.hdm-stuttgart.de/studieninteressierte/bewerber/kosten/semesterbeitraege', 'https://www.hdm-stuttgart.de/view_news?ident=news20241219144546', 'https://www.hdm-stuttgart.de/karriere', 'https://www.hdm-stuttgart.de/hochschule/organisation/organisationsstruktur', 'https://www.hdm-stuttgart.de/unternehmen/careercenter/stellenangebote', 'https://www.hdm-stuttgart.de/terminkalender/view_terminfooter_relaunch?terminid=event20240716104708', 'https://www.hdm-stuttgart.de/studierende/inaktion/horads', 'https://www.hdm-stuttgart.de/terminkalender/view_terminfooter_relaunch?terminid=event20241009142858', 'https://www.hdm-stuttgart.de/view_news?ident=news20241216110054', 'https://www.hdm-stuttgart.de/unternehmen/promo_werbung', 'https://www.hdm-stuttgart.de/hochschule/organisation/honorarprofessuren', 'https://www.hdm-stuttgart.de/studierende/stundenplan/sb_funktionen', 'https://www.hdm-stuttgart.de/studieninteressierte/bewerber/kosten', 'https://ox.hdm-stuttgart.de/', 'https://www.hdm-stuttgart.de/studieninteressierte/info/infoveranstaltungen', 'https://www.hdm-stuttgart.de/hochschule/forschung/kooperationsmoeglichkeiten', 'https://www.hdm-stuttgart.de/hochschule/forschung/ethikkommission', 'https://www.hdm-stuttgart.de/view_news?ident=news20241115135644', 'https://www.hdm-stuttgart.de/impressum', 'https://www.hdm-stuttgart.de/view_news?ident=news20241108115801', 'https://www.hdm-stuttgart.de/studieninteressierte/studium/master', 'https://www.hdm-stuttgart.de/studierende/inaktion', 'https://www.hdm-stuttgart.de/new_search/index_html', 'https://www.hdm-stuttgart.de/view_news?ident=news20250203170048', 'https://www.hdm-stuttgart.de/unternehmen/kooperation', 'https://www.hdm-stuttgart.de/hochschule/profil', 'https://www.hdm-stuttgart.de/studieninteressierte/info/studienberatung', 'https://www.hdm-stuttgart.de/hochschule/aktuelles/newsletter', 'https://www.hdm-stuttgart.de/studieninteressierte/promotion/%20Swansea', 'https://www.hdm-stuttgart.de/studierende/abteilungen/aaa', 'https://www.hdm-stuttgart.de/hochschule/forschung/entrepreneurship', 'https://www.hdm-stuttgart.de/studieninteressierte/rund_ums_studium/studieren_mit_kind', 'https://www.hdm-stuttgart.de/studierende/abteilungen/cld', 'https://www.hdm-stuttgart.de/hochschule/organisation/einrichtungen', 'https://www.hdm-stuttgart.de/productionspace', 'https://www.hdm-stuttgart.de/beitragsarchiv?Suchen=1&kategorie_ID=3', 'https://www.hdm-stuttgart.de/studieninteressierte/info/studienbuero', 'https://www.hdm-stuttgart.de/studierende/careercenter', 'https://www.hdm-stuttgart.de/unternehmen/promo_werbung/stand_laufpromotion', 'https://www.hdm-stuttgart.de/studieninteressierte/bewerber/studienfachwechsel', 'https://www.hdm-stuttgart.de/hochschule/profil/gleichstellung', 'https://www.hdm-stuttgart.de/hochschule/organisation/gastwissenschaftler', 'https://www.hdm-stuttgart.de/studierende/stundenplan', 'https://www.hdm-stuttgart.de/hochschule/profil/netzwerke', 'https://www.hdm-stuttgart.de/neckarconnection', 'https://www.hdm-stuttgart.de/unternehmen/promo_werbung/plakatwerbung', 'https://www.hdm-stuttgart.de/studieninteressierte/info', 'https://www.hdm-stuttgart.de/studieninteressierte/rund_ums_studium/studiticket', 'https://www.hdm-stuttgart.de/studierende/abteilungen/sprachenzentrum', 'https://www.hdm-stuttgart.de/studieninteressierte/rund_ums_studium/wohnheime', 'https://www.hdm-stuttgart.de/unternehmen/kooperation/kooperationsmoeglichkeiten', 'https://www.hdm-stuttgart.de/unternehmen/promo_werbung/fotoshootings', 'https://www.hdm-stuttgart.de/hochschule/forschung/forschungsschwerpunkte/digital_media', 'https://www.hdm-stuttgart.de/studieninteressierte/bewerber/zulassung', 'https://www.hdm-stuttgart.de/oeffnungszeiten', 'https://www.hdm-stuttgart.de/terminkalender/view_terminfooter_relaunch?terminid=event20230818144335', 'https://www.hdm-stuttgart.de/studierende/studium/spo', 'https://www.hdm-stuttgart.de/studierende/absolventen', 'https://www.hdm-stuttgart.de/sitemap', 'https://www.hdm-stuttgart.de/intranet/mitarbeiter/', 'https://www.hdm-stuttgart.de/studierende/inaktion/medianight', 'https://www.hdm-stuttgart.de/hochschule/profil/familie_in_der_hochschule', 'https://www.hdm-stuttgart.de/view_news?ident=news20241219142336', 'https://www.hdm-stuttgart.de/studierende/studium/foerderungen', 'https://www.hdm-stuttgart.de/studieninteressierte/bewerber', 'https://www.hdm-stuttgart.de/studieninteressierte/studium/alle_studienangebote', 'https://vs-hdm.de/', 'https://www.hdm-stuttgart.de/view_news?ident=news20250203170200', 'https://www.hdm-stuttgart.de/hochschule/forschung/promotionsverband', 'https://www.hdm-stuttgart.de/unternehmen/promo_werbung/banner_homepage', 'https://www.hdm-stuttgart.de/studieninteressierte/rund_ums_studium/bafoeg', 'https://www.hdm-stuttgart.de/terminkalender/view_terminfooter_relaunch?terminid=event20250116132401', 'https://www.hdm-stuttgart.de/studierende/stundenplan/vorlesungsverzeichnis', 'https://www.hdm-stuttgart.de/studieninteressierte/studium/weiterbildungsangebote', 'https://www.hdm-stuttgart.de/studieninteressierte/rund_ums_studium/stuttgart', 'https://www.hdm-stuttgart.de', 'https://www.hdm-stuttgart.de/mediathek', 'https://www.hdm-stuttgart.de/view_news?ident=news20250117114136', 'https://www.hdm-stuttgart.de/mp/projekte/mediakompakt', 'https://www.hdm-stuttgart.de/hochschule/profil/nachhaltigkeit_klimaschutz', 'https://www.hdm-stuttgart.de/hochschule/organisation/rektorat', 'https://www.hdm-stuttgart.de/studierende/abteilungen', 'https://www.hdm-stuttgart.de/view_news?ident=news20241212154258', 'https://www.hdm-stuttgart.de/barrierefreiheit', 'https://www.hdm-weiterbildung.de/', 'https://www.hdm-stuttgart.de/studieninteressierte/studium', 'https://www.hdm-stuttgart.de/bibliothek', 'https://www.hdm-stuttgart.de/studierende/abteilungen/pruefungsverwaltung', 'https://www.hdm-stuttgart.de/hochschule/organisation/fakultaeten_institute', 'https://www.hdm-stuttgart.de/unternehmen', 'https://www.hdm-stuttgart.de/studierende/erstsemester', 'https://www.hdm-stuttgart.de/studieninteressierte/bewerber/bewerbung_bachelor', 'https://www.hdm-stuttgart.de/download', 'https://www.hdm-stuttgart.de/studieninteressierte/promotion/uws', 'https://www.hdm-stuttgart.de/intranet', 'https://www.hdm-stuttgart.de/view_news?ident=news20241212154553', 'https://www.hdm-stuttgart.de/view_news?ident=news20250122161032', 'https://www.hdm-stuttgart.de/studieninteressierte/promotion'}\n"
     ]
    }
   ],
   "source": [
    "current_url = \"https://www.hdm-stuttgart.de/index_html\"\n",
    "visited = set()\n",
    "to_visit_set = set()\n",
    "session = requests.Session()\n",
    "response = session.get(current_url, timeout=10)\n",
    "response.raise_for_status()\n",
    "\n",
    "content_type = response.headers.get(\"Content-Type\", \"\").lower()\n",
    "log.info(\"Content type: %s\", content_type)\n",
    "\n",
    "# Process the content based on the content type\n",
    "if \"text/html\" in content_type:\n",
    "    log.info(\"Detected HTML: %s\", current_url)\n",
    "    soup = BeautifulSoup(response.content, \"html.parser\")\n",
    "\n",
    "    # extracts all links from webpage, and adds them to the list/set if they are not\n",
    "    # already visited or in the to_visit set\n",
    "    new_links = extract_links(\n",
    "        soup=soup, url=current_url, visited=visited, to_visit=to_visit_set\n",
    "    )\n",
    "    print(new_links)"
   ]
  },
  {
   "cell_type": "code",
   "execution_count": 115,
   "metadata": {},
   "outputs": [],
   "source": [
    "def extract_links_old(soup: BeautifulSoup, url: str, visited: set[str], to_visit: set[str]) -> set[str]:\n",
    "    \"\"\"Extracts all valid links from a webpage.\n",
    "\n",
    "    Args:\n",
    "        soup (BeautifulSoup): The BeautifulSoup object of the pag content.\n",
    "        url (str): The URL of the page being parsed.\n",
    "\n",
    "    Returns:\n",
    "        Set[str]: A set of valid links extracted from the page.\n",
    "    \"\"\"\n",
    "    try:\n",
    "        # Extract all <a> tags with href attributes\n",
    "        filtered_links = set()\n",
    "\n",
    "        for a in soup.find_all(\"a\", href=True):\n",
    "            href = a[\"href\"].strip()\n",
    "            full_url = urljoin(url, href)\n",
    "\n",
    "            if (\n",
    "                \"#\" in full_url\n",
    "                or \"hdm\" not in full_url\n",
    "                or full_url.startswith(\"mailto:\")\n",
    "                or not full_url.lower().endswith((\".pdf\", \".html\", \".htm\", \"\"))\n",
    "                or not full_url.startswith((\"http://\", \"https://\"))\n",
    "            ):\n",
    "                continue\n",
    "\n",
    "            parsed_url = urlparse(full_url)\n",
    "            domain = parsed_url.netloc.lower()\n",
    "            if not any(domain.endswith(allowed) for allowed in ALLOWED_DOMAINS):\n",
    "                continue\n",
    "\n",
    "            if full_url not in visited and full_url not in to_visit:\n",
    "                filtered_links.add(full_url)\n",
    "\n",
    "        return filtered_links\n",
    "\n",
    "    except requests.RequestException as e:\n",
    "        log.error(\"Failed to fetch links from %s: %s\", url, e)\n",
    "        return set()"
   ]
  },
  {
   "cell_type": "code",
   "execution_count": 118,
   "metadata": {},
   "outputs": [
    {
     "name": "stdout",
     "output_type": "stream",
     "text": [
      "2025-02-07 23:07:49 [INFO] __main__ - Content type: text/html; charset=utf-8\n",
      "2025-02-07 23:07:49 [INFO] __main__ - Detected HTML: https://www.hdm-stuttgart.de/hochschule/organisation/rektorat\n"
     ]
    },
    {
     "data": {
      "text/plain": [
       "{'http://www.hdm-weiterbildung.de',\n",
       " 'https://moodle.hdm-stuttgart.de',\n",
       " 'https://ox.hdm-stuttgart.de/',\n",
       " 'https://vs-hdm.de/',\n",
       " 'https://www.hdm-stuttgart.de',\n",
       " 'https://www.hdm-stuttgart.de/anfahrt',\n",
       " 'https://www.hdm-stuttgart.de/barrierefreiheit',\n",
       " 'https://www.hdm-stuttgart.de/bibliothek',\n",
       " 'https://www.hdm-stuttgart.de/bilderupload/23sdfazu.jpg',\n",
       " 'https://www.hdm-stuttgart.de/bilderupload/6rwvIho7BP.jpg',\n",
       " 'https://www.hdm-stuttgart.de/bilderupload/OMCpE0KJYy.jpg',\n",
       " 'https://www.hdm-stuttgart.de/bilderupload/T1mYQMfWLi.jpg',\n",
       " 'https://www.hdm-stuttgart.de/bilderupload/rBvqrUFbuD.jpg',\n",
       " 'https://www.hdm-stuttgart.de/datenschutz',\n",
       " 'https://www.hdm-stuttgart.de/datenschutzverordnung_hdm',\n",
       " 'https://www.hdm-stuttgart.de/download',\n",
       " 'https://www.hdm-stuttgart.de/en/about/organization/rectorate',\n",
       " 'https://www.hdm-stuttgart.de/hausordnung',\n",
       " 'https://www.hdm-stuttgart.de/hochschule',\n",
       " 'https://www.hdm-stuttgart.de/hochschule/aktuelles',\n",
       " 'https://www.hdm-stuttgart.de/hochschule/aktuelles/newsletter',\n",
       " 'https://www.hdm-stuttgart.de/hochschule/aktuelles/presse',\n",
       " 'https://www.hdm-stuttgart.de/hochschule/aktuelles/terminkalender',\n",
       " 'https://www.hdm-stuttgart.de/hochschule/doepfert',\n",
       " 'https://www.hdm-stuttgart.de/hochschule/forschung',\n",
       " 'https://www.hdm-stuttgart.de/hochschule/forschung/entrepreneurship',\n",
       " 'https://www.hdm-stuttgart.de/hochschule/forschung/ethikkommission',\n",
       " 'https://www.hdm-stuttgart.de/hochschule/forschung/forschungsberichte',\n",
       " 'https://www.hdm-stuttgart.de/hochschule/forschung/forschungsschwerpunkte',\n",
       " 'https://www.hdm-stuttgart.de/hochschule/forschung/forschungsschwerpunkte/digital_media',\n",
       " 'https://www.hdm-stuttgart.de/hochschule/forschung/forschungsthemen',\n",
       " 'https://www.hdm-stuttgart.de/hochschule/forschung/kommission',\n",
       " 'https://www.hdm-stuttgart.de/hochschule/forschung/kooperationsmoeglichkeiten',\n",
       " 'https://www.hdm-stuttgart.de/hochschule/forschung/promotionsverband',\n",
       " 'https://www.hdm-stuttgart.de/hochschule/forschung/transferzentren',\n",
       " 'https://www.hdm-stuttgart.de/hochschule/organisation',\n",
       " 'https://www.hdm-stuttgart.de/hochschule/organisation/ehrensenatoren',\n",
       " 'https://www.hdm-stuttgart.de/hochschule/organisation/einrichtungen',\n",
       " 'https://www.hdm-stuttgart.de/hochschule/organisation/fakultaeten_institute',\n",
       " 'https://www.hdm-stuttgart.de/hochschule/organisation/gastwissenschaftler',\n",
       " 'https://www.hdm-stuttgart.de/hochschule/organisation/honorarprofessuren',\n",
       " 'https://www.hdm-stuttgart.de/hochschule/organisation/organisationsstruktur',\n",
       " 'https://www.hdm-stuttgart.de/hochschule/organisation/professoren',\n",
       " 'https://www.hdm-stuttgart.de/hochschule/organisation/rektorat',\n",
       " 'https://www.hdm-stuttgart.de/hochschule/organisation/rektorat/index_html/manage',\n",
       " 'https://www.hdm-stuttgart.de/hochschule/profil',\n",
       " 'https://www.hdm-stuttgart.de/hochschule/profil/barrierefreiheit',\n",
       " 'https://www.hdm-stuttgart.de/hochschule/profil/familie_in_der_hochschule',\n",
       " 'https://www.hdm-stuttgart.de/hochschule/profil/gleichstellung',\n",
       " 'https://www.hdm-stuttgart.de/hochschule/profil/leitwerte_leitbild',\n",
       " 'https://www.hdm-stuttgart.de/hochschule/profil/nachhaltigkeit_klimaschutz',\n",
       " 'https://www.hdm-stuttgart.de/hochschule/profil/netzwerke',\n",
       " 'https://www.hdm-stuttgart.de/hochschule/profil/partnerhochschulen',\n",
       " 'https://www.hdm-stuttgart.de/hochschule/profil/qm',\n",
       " 'https://www.hdm-stuttgart.de/hochschule/profil/qm/systemakkreditierung',\n",
       " 'https://www.hdm-stuttgart.de/hochschule/profil/ueber_die_hdm',\n",
       " 'https://www.hdm-stuttgart.de/horst',\n",
       " 'https://www.hdm-stuttgart.de/impressum',\n",
       " 'https://www.hdm-stuttgart.de/index_html',\n",
       " 'https://www.hdm-stuttgart.de/intranet',\n",
       " 'https://www.hdm-stuttgart.de/intranet/ansprechpartner',\n",
       " 'https://www.hdm-stuttgart.de/intranet/dozenten/',\n",
       " 'https://www.hdm-stuttgart.de/intranet/intranet_formulare/studierende',\n",
       " 'https://www.hdm-stuttgart.de/intranet/mitarbeiter/',\n",
       " 'https://www.hdm-stuttgart.de/intranet/organisation/ansprechpartner/abteilungen/technikpool',\n",
       " 'https://www.hdm-stuttgart.de/isms',\n",
       " 'https://www.hdm-stuttgart.de/karriere',\n",
       " 'https://www.hdm-stuttgart.de/mediathek',\n",
       " 'https://www.hdm-stuttgart.de/mp/projekte/mediakompakt',\n",
       " 'https://www.hdm-stuttgart.de/neckarconnection',\n",
       " 'https://www.hdm-stuttgart.de/new_search/index_html',\n",
       " 'https://www.hdm-stuttgart.de/oeffnungszeiten',\n",
       " 'https://www.hdm-stuttgart.de/productionspace',\n",
       " 'https://www.hdm-stuttgart.de/science',\n",
       " 'https://www.hdm-stuttgart.de/sitemap',\n",
       " 'https://www.hdm-stuttgart.de/studieninteressierte',\n",
       " 'https://www.hdm-stuttgart.de/studieninteressierte/bewerber',\n",
       " 'https://www.hdm-stuttgart.de/studieninteressierte/bewerber/angleichungsleistungen',\n",
       " 'https://www.hdm-stuttgart.de/studieninteressierte/bewerber/auslaendische_bewerber',\n",
       " 'https://www.hdm-stuttgart.de/studieninteressierte/bewerber/bewerbung_bachelor',\n",
       " 'https://www.hdm-stuttgart.de/studieninteressierte/bewerber/bewerbung_master',\n",
       " 'https://www.hdm-stuttgart.de/studieninteressierte/bewerber/kosten',\n",
       " 'https://www.hdm-stuttgart.de/studieninteressierte/bewerber/kosten/semesterbeitraege',\n",
       " 'https://www.hdm-stuttgart.de/studieninteressierte/bewerber/studienfachwechsel',\n",
       " 'https://www.hdm-stuttgart.de/studieninteressierte/bewerber/studienplatzvergabe',\n",
       " 'https://www.hdm-stuttgart.de/studieninteressierte/bewerber/zulassung',\n",
       " 'https://www.hdm-stuttgart.de/studieninteressierte/info',\n",
       " 'https://www.hdm-stuttgart.de/studieninteressierte/info/gasthoerer',\n",
       " 'https://www.hdm-stuttgart.de/studieninteressierte/info/infoveranstaltungen',\n",
       " 'https://www.hdm-stuttgart.de/studieninteressierte/info/studienberatung',\n",
       " 'https://www.hdm-stuttgart.de/studieninteressierte/info/studienbuero',\n",
       " 'https://www.hdm-stuttgart.de/studieninteressierte/promotion',\n",
       " 'https://www.hdm-stuttgart.de/studieninteressierte/promotion/%20Swansea',\n",
       " 'https://www.hdm-stuttgart.de/studieninteressierte/promotion/promovieren_an_der_hdm',\n",
       " 'https://www.hdm-stuttgart.de/studieninteressierte/promotion/uws',\n",
       " 'https://www.hdm-stuttgart.de/studieninteressierte/rund_ums_studium',\n",
       " 'https://www.hdm-stuttgart.de/studieninteressierte/rund_ums_studium/bafoeg',\n",
       " 'https://www.hdm-stuttgart.de/studieninteressierte/rund_ums_studium/studieren_mit_kind',\n",
       " 'https://www.hdm-stuttgart.de/studieninteressierte/rund_ums_studium/studiticket',\n",
       " 'https://www.hdm-stuttgart.de/studieninteressierte/rund_ums_studium/stuttgart',\n",
       " 'https://www.hdm-stuttgart.de/studieninteressierte/rund_ums_studium/wohnheime',\n",
       " 'https://www.hdm-stuttgart.de/studieninteressierte/studium',\n",
       " 'https://www.hdm-stuttgart.de/studieninteressierte/studium/alle_studienangebote',\n",
       " 'https://www.hdm-stuttgart.de/studieninteressierte/studium/austauschprogramme',\n",
       " 'https://www.hdm-stuttgart.de/studieninteressierte/studium/bachelor',\n",
       " 'https://www.hdm-stuttgart.de/studieninteressierte/studium/master',\n",
       " 'https://www.hdm-stuttgart.de/studieninteressierte/studium/weiterbildungsangebote',\n",
       " 'https://www.hdm-stuttgart.de/studierende',\n",
       " 'https://www.hdm-stuttgart.de/studierende/absolventen',\n",
       " 'https://www.hdm-stuttgart.de/studierende/abteilungen',\n",
       " 'https://www.hdm-stuttgart.de/studierende/abteilungen/aaa',\n",
       " 'https://www.hdm-stuttgart.de/studierende/abteilungen/cld',\n",
       " 'https://www.hdm-stuttgart.de/studierende/abteilungen/it',\n",
       " 'https://www.hdm-stuttgart.de/studierende/abteilungen/pruefungsverwaltung',\n",
       " 'https://www.hdm-stuttgart.de/studierende/abteilungen/sprachenzentrum',\n",
       " 'https://www.hdm-stuttgart.de/studierende/careercenter',\n",
       " 'https://www.hdm-stuttgart.de/studierende/erstsemester',\n",
       " 'https://www.hdm-stuttgart.de/studierende/handbuch',\n",
       " 'https://www.hdm-stuttgart.de/studierende/inaktion',\n",
       " 'https://www.hdm-stuttgart.de/studierende/inaktion/horads',\n",
       " 'https://www.hdm-stuttgart.de/studierende/inaktion/medianight',\n",
       " 'https://www.hdm-stuttgart.de/studierende/inaktion/stufe',\n",
       " 'https://www.hdm-stuttgart.de/studierende/mathevorkurse',\n",
       " 'https://www.hdm-stuttgart.de/studierende/studium',\n",
       " 'https://www.hdm-stuttgart.de/studierende/studium/ausland',\n",
       " 'https://www.hdm-stuttgart.de/studierende/studium/foerderungen',\n",
       " 'https://www.hdm-stuttgart.de/studierende/studium/praktisches_studiensemester',\n",
       " 'https://www.hdm-stuttgart.de/studierende/studium/spo',\n",
       " 'https://www.hdm-stuttgart.de/studierende/stundenplan',\n",
       " 'https://www.hdm-stuttgart.de/studierende/stundenplan/pers_stundenplan',\n",
       " 'https://www.hdm-stuttgart.de/studierende/stundenplan/raumbelegung',\n",
       " 'https://www.hdm-stuttgart.de/studierende/stundenplan/sb_funktionen',\n",
       " 'https://www.hdm-stuttgart.de/studierende/stundenplan/studieninhalte',\n",
       " 'https://www.hdm-stuttgart.de/studierende/stundenplan/vorlesungsverzeichnis',\n",
       " 'https://www.hdm-stuttgart.de/unternehmen',\n",
       " 'https://www.hdm-stuttgart.de/unternehmen/careercenter',\n",
       " 'https://www.hdm-stuttgart.de/unternehmen/careercenter/praktikumsstellen',\n",
       " 'https://www.hdm-stuttgart.de/unternehmen/careercenter/stellenangebote',\n",
       " 'https://www.hdm-stuttgart.de/unternehmen/karrieremarktplatz',\n",
       " 'https://www.hdm-stuttgart.de/unternehmen/kooperation',\n",
       " 'https://www.hdm-stuttgart.de/unternehmen/kooperation/deutschlandstipendium_foerderer',\n",
       " 'https://www.hdm-stuttgart.de/unternehmen/kooperation/kooperationsmoeglichkeiten',\n",
       " 'https://www.hdm-stuttgart.de/unternehmen/kooperation/stipendium_des_foerdervereins',\n",
       " 'https://www.hdm-stuttgart.de/unternehmen/promo_werbung',\n",
       " 'https://www.hdm-stuttgart.de/unternehmen/promo_werbung/anzeigenschaltung_studienfuehrer',\n",
       " 'https://www.hdm-stuttgart.de/unternehmen/promo_werbung/banner_homepage',\n",
       " 'https://www.hdm-stuttgart.de/unternehmen/promo_werbung/fotoshootings',\n",
       " 'https://www.hdm-stuttgart.de/unternehmen/promo_werbung/plakatwerbung',\n",
       " 'https://www.hdm-stuttgart.de/unternehmen/promo_werbung/stand_laufpromotion',\n",
       " 'https://www.hdm-weiterbildung.de/'}"
      ]
     },
     "metadata": {},
     "output_type": "display_data"
    }
   ],
   "source": [
    "current_url = \"https://www.hdm-stuttgart.de/hochschule/organisation/rektorat\"\n",
    "visited = set()\n",
    "to_visit_set = set()\n",
    "session = requests.Session()\n",
    "response = session.get(current_url, timeout=10)\n",
    "response.raise_for_status()\n",
    "\n",
    "content_type = response.headers.get(\"Content-Type\", \"\").lower()\n",
    "log.info(\"Content type: %s\", content_type)\n",
    "\n",
    "# Process the content based on the content type\n",
    "if \"text/html\" in content_type:\n",
    "    log.info(\"Detected HTML: %s\", current_url)\n",
    "    soup = BeautifulSoup(response.content, \"html.parser\")\n",
    "\n",
    "    # extracts all links from webpage, and adds them to the list/set if they are not\n",
    "    # already visited or in the to_visit set\n",
    "    new_links = extract_links_old(\n",
    "        soup=soup, url=current_url, visited=visited, to_visit=to_visit_set\n",
    "    )\n",
    "    display(new_links)"
   ]
  },
  {
   "cell_type": "code",
   "execution_count": 2,
   "metadata": {},
   "outputs": [
    {
     "name": "stdout",
     "output_type": "stream",
     "text": [
      "Last Modified: Wed, 06 Dec 2023 12:56:07 GMT\n"
     ]
    }
   ],
   "source": [
    "import requests\n",
    "\n",
    "url = \"https://www.hdm-stuttgart.de/view_news?ident=news20241212154258\"  # Replace with your URL\n",
    "response = requests.head(url)\n",
    "\n",
    "if \"Last-Modified\" in response.headers:\n",
    "    print(\"Last Modified:\", response.headers[\"Last-Modified\"])\n",
    "else:\n",
    "    print(\"No Last-Modified header found.\")"
   ]
  },
  {
   "cell_type": "code",
   "execution_count": 3,
   "metadata": {},
   "outputs": [
    {
     "name": "stderr",
     "output_type": "stream",
     "text": [
      "c:\\Users\\anjow\\miniconda3\\envs\\BAp11\\Lib\\site-packages\\tqdm\\auto.py:21: TqdmWarning: IProgress not found. Please update jupyter and ipywidgets. See https://ipywidgets.readthedocs.io/en/stable/user_install.html\n",
      "  from .autonotebook import tqdm as notebook_tqdm\n"
     ]
    }
   ],
   "source": [
    "from transformers import AutoModelForCausalLM, AutoTokenizer, BitsAndBytesConfig\n",
    "tokenizer = AutoTokenizer.from_pretrained(\"deepseek-ai/DeepSeek-R1-Distill-Llama-8B\")"
   ]
  },
  {
   "cell_type": "code",
   "execution_count": 5,
   "metadata": {},
   "outputs": [],
   "source": [
    "pad_token_id = (\n",
    "    tokenizer.pad_token_id\n",
    "    if tokenizer.pad_token_id is not None\n",
    "    else tokenizer.eos_token_id\n",
    ")"
   ]
  },
  {
   "cell_type": "code",
   "execution_count": 6,
   "metadata": {},
   "outputs": [
    {
     "data": {
      "text/plain": [
       "128001"
      ]
     },
     "execution_count": 6,
     "metadata": {},
     "output_type": "execute_result"
    }
   ],
   "source": [
    "pad_token_id"
   ]
  },
  {
   "cell_type": "code",
   "execution_count": 1,
   "metadata": {},
   "outputs": [
    {
     "name": "stderr",
     "output_type": "stream",
     "text": [
      "c:\\Users\\anjow\\miniconda3\\envs\\BAp11\\Lib\\site-packages\\tqdm\\auto.py:21: TqdmWarning: IProgress not found. Please update jupyter and ipywidgets. See https://ipywidgets.readthedocs.io/en/stable/user_install.html\n",
      "  from .autonotebook import tqdm as notebook_tqdm\n"
     ]
    }
   ],
   "source": [
    "import time\n",
    "import re\n",
    "import os\n",
    "import sys\n",
    "from random import uniform\n",
    "from collections import deque\n",
    "from urllib.parse import urljoin, urlparse\n",
    "import json\n",
    "import torch\n",
    "\n",
    "import requests\n",
    "from bs4 import BeautifulSoup\n",
    "from PyPDF2 import PdfReader\n",
    "\n",
    "parent_dir = os.path.dirname(os.path.dirname(os.path.abspath('__file__')))\n",
    "sys.path.append(parent_dir)\n",
    "\n",
    "from utils import logger, create_directories_if_not_exist, save_to_file\n",
    "from chroma_functions import ChromaDB\n",
    "from rag import RAG\n",
    "from utils import current_memory"
   ]
  },
  {
   "cell_type": "code",
   "execution_count": 2,
   "metadata": {},
   "outputs": [
    {
     "name": "stdout",
     "output_type": "stream",
     "text": [
      "2025-02-12 21:57:25 [INFO] utils -  used space 1.2451839999999983, free space 11.632902144, total space 12.878086144 in GB\n",
      "2025-02-12 21:57:26 [INFO] accelerate.utils.modeling - We will use 90% of the memory on device 0 for storing the model, and 10% for the buffer to avoid OOM. You can set `max_memory` in to a higher value to use more memory (at your own risk).\n"
     ]
    },
    {
     "name": "stderr",
     "output_type": "stream",
     "text": [
      "Loading checkpoint shards: 100%|██████████| 2/2 [00:08<00:00,  4.06s/it]\n"
     ]
    },
    {
     "name": "stdout",
     "output_type": "stream",
     "text": [
      "2025-02-12 21:57:35 [INFO] utils -  used space 7.379353599999999, free space 5.498732544, total space 12.878086144 in GB\n",
      "2025-02-12 21:57:35 [INFO] rag - Initialized model: deepseek-ai/DeepSeek-R1-Distill-Llama-8B\n"
     ]
    }
   ],
   "source": [
    "RAG_MODEL = RAG(\n",
    "    model_name=\"deepseek-ai/DeepSeek-R1-Distill-Llama-8B\",\n",
    "    tokenizer_name=\"deepseek-ai/DeepSeek-R1-Distill-Llama-8B\",\n",
    ")"
   ]
  },
  {
   "cell_type": "code",
   "execution_count": 3,
   "metadata": {},
   "outputs": [
    {
     "name": "stdout",
     "output_type": "stream",
     "text": [
      "2025-02-12 21:57:35 [INFO] utils -  used space 7.379353599999999, free space 5.498732544, total space 12.878086144 in GB\n"
     ]
    }
   ],
   "source": [
    "current_memory()"
   ]
  },
  {
   "cell_type": "code",
   "execution_count": 14,
   "metadata": {},
   "outputs": [],
   "source": [
    "# del RAG_MODEL\n",
    "import gc\n",
    "gc.collect()\n",
    "torch.cuda.empty_cache()"
   ]
  },
  {
   "cell_type": "code",
   "execution_count": 15,
   "metadata": {},
   "outputs": [
    {
     "name": "stdout",
     "output_type": "stream",
     "text": [
      "2025-02-12 22:00:56 [INFO] utils -  used space 1.2703498239999984, free space 11.60773632, total space 12.878086144 in GB\n"
     ]
    }
   ],
   "source": [
    "current_memory()"
   ]
  },
  {
   "cell_type": "code",
   "execution_count": 14,
   "metadata": {},
   "outputs": [
    {
     "name": "stdout",
     "output_type": "stream",
     "text": [
      "2025-02-08 14:13:36 [INFO] utils -  used space 8.463581183999999, free space 4.41450496, total space 12.878086144 in GB\n",
      "2025-02-08 14:13:36 [INFO] rag - Adding user query to prompt object\n"
     ]
    },
    {
     "name": "stderr",
     "output_type": "stream",
     "text": [
      "Batches: 100%|██████████| 1/1 [00:00<00:00, 296.54it/s]"
     ]
    },
    {
     "name": "stdout",
     "output_type": "stream",
     "text": [
      "2025-02-08 14:13:36 [INFO] chroma_functions - Closest document found: []\n",
      "2025-02-08 14:13:36 [INFO] rag - No corresponding document found.\n",
      "2025-02-08 14:13:36 [INFO] rag - Generating an answer for the query: wie lange geht der studiengang medieninformatik?\n",
      "2025-02-08 14:13:36 [INFO] utils -  used space 8.463581183999999, free space 4.41450496, total space 12.878086144 in GB\n"
     ]
    },
    {
     "name": "stderr",
     "output_type": "stream",
     "text": [
      "\n"
     ]
    },
    {
     "name": "stdout",
     "output_type": "stream",
     "text": [
      "2025-02-08 14:13:51 [INFO] rag - Question: wie lange geht der studiengang medieninformatik?\n",
      "2025-02-08 14:13:51 [INFO] rag - Answer:  in stuttgart\n",
      "\n",
      "Okay, so I need to figure out how long the study program in Media Information Technology in Stuttgart is. I'm not exactly sure about the specifics, but I can try to work it out.\n",
      "\n",
      "First, I know that studying in Germany usually involves a Bachelor's and Master's degree. Maybe this program is structured that way. I should check the typical duration for these degrees in Germany.\n",
      "\n",
      "In Germany, a Bachelor's degree typically takes six semesters, which is three years of study. A Master's degree usually takes another two years, so four semesters in total. That makes the entire program seven semesters or about four years.\n",
      "\n",
      "Now, applying this to Media Information Technology. I think this might be a dual degree program, combining Bachelor and Master in one cycle. So instead of two separate degrees, it's a single six- or seven-semester program.\n",
      "\n",
      "Wait, I should confirm if it's a combined program. Some universities in Germany offer combined degrees, where you earn both Bachelor and Master in six or seven semesters. So if the program is structured that way, the total duration would be shorter.\n",
      "\n",
      "If it's a standard Bachelor followed by a Master, it would be four years in total. But if it's a combined program, maybe it's six or seven semesters. I need to check the university's website or academic calendar for specific information.\n",
      "\n",
      "I should also consider if the program is full-time or part-time. Full-time programs usually take the standard duration, while part-time can take longer. Since the user is asking about the study program, I'll assume it's full-time.\n",
      "\n",
      "Another point is whether the program includes practical elements or internships. That doesn't affect the duration but adds to the experience.\n",
      "\n",
      "So, putting it all together, the study program likely takes four years if it's a standard Bachelor plus Master, or maybe six or seven if it's a combined degree. I need to make sure which one it is.\n",
      "\n",
      "I think the best approach is to look up the academic calendar or contact the university directly. But since I can't do that right now, I'll go with the standard four-year program, considering it's a dual degree.\n",
      "\n",
      "Therefore, the study program in Media Information Technology in Stuttgart is likely four years long.\n",
      "</think>\n",
      "\n",
      "The study program in Media Information Technology in Stuttgart is typically four years long, assuming it is a standard Bachelor's and Master's combination. If it is a combined dual degree program, it might be structured\n",
      "2025-02-08 14:13:51 [INFO] utils -  used space 8.463581183999999, free space 4.41450496, total space 12.878086144 in GB\n"
     ]
    },
    {
     "data": {
      "text/plain": [
       "(\" in stuttgart\\n\\nOkay, so I need to figure out how long the study program in Media Information Technology in Stuttgart is. I'm not exactly sure about the specifics, but I can try to work it out.\\n\\nFirst, I know that studying in Germany usually involves a Bachelor's and Master's degree. Maybe this program is structured that way. I should check the typical duration for these degrees in Germany.\\n\\nIn Germany, a Bachelor's degree typically takes six semesters, which is three years of study. A Master's degree usually takes another two years, so four semesters in total. That makes the entire program seven semesters or about four years.\\n\\nNow, applying this to Media Information Technology. I think this might be a dual degree program, combining Bachelor and Master in one cycle. So instead of two separate degrees, it's a single six- or seven-semester program.\\n\\nWait, I should confirm if it's a combined program. Some universities in Germany offer combined degrees, where you earn both Bachelor and Master in six or seven semesters. So if the program is structured that way, the total duration would be shorter.\\n\\nIf it's a standard Bachelor followed by a Master, it would be four years in total. But if it's a combined program, maybe it's six or seven semesters. I need to check the university's website or academic calendar for specific information.\\n\\nI should also consider if the program is full-time or part-time. Full-time programs usually take the standard duration, while part-time can take longer. Since the user is asking about the study program, I'll assume it's full-time.\\n\\nAnother point is whether the program includes practical elements or internships. That doesn't affect the duration but adds to the experience.\\n\\nSo, putting it all together, the study program likely takes four years if it's a standard Bachelor plus Master, or maybe six or seven if it's a combined degree. I need to make sure which one it is.\\n\\nI think the best approach is to look up the academic calendar or contact the university directly. But since I can't do that right now, I'll go with the standard four-year program, considering it's a dual degree.\\n\\nTherefore, the study program in Media Information Technology in Stuttgart is likely four years long.\\n</think>\\n\\nThe study program in Media Information Technology in Stuttgart is typically four years long, assuming it is a standard Bachelor's and Master's combination. If it is a combined dual degree program, it might be structured\",\n",
       " None)"
      ]
     },
     "execution_count": 14,
     "metadata": {},
     "output_type": "execute_result"
    }
   ],
   "source": [
    "RAG_MODEL.generate_text(\"wie lange geht der studiengang medieninformatik?\")"
   ]
  },
  {
   "cell_type": "code",
   "execution_count": 11,
   "metadata": {},
   "outputs": [
    {
     "name": "stdout",
     "output_type": "stream",
     "text": [
      "2025-02-08 14:10:18 [INFO] utils -  used space 7.933001727999999, free space 4.945084416, total space 12.878086144 in GB\n"
     ]
    }
   ],
   "source": [
    "current_memory()"
   ]
  },
  {
   "cell_type": "code",
   "execution_count": 10,
   "metadata": {},
   "outputs": [],
   "source": [
    "torch.cuda.empty_cache()"
   ]
  }
 ],
 "metadata": {
  "kernelspec": {
   "display_name": "BAp11",
   "language": "python",
   "name": "python3"
  },
  "language_info": {
   "codemirror_mode": {
    "name": "ipython",
    "version": 3
   },
   "file_extension": ".py",
   "mimetype": "text/x-python",
   "name": "python",
   "nbconvert_exporter": "python",
   "pygments_lexer": "ipython3",
   "version": "3.11.11"
  }
 },
 "nbformat": 4,
 "nbformat_minor": 2
}
